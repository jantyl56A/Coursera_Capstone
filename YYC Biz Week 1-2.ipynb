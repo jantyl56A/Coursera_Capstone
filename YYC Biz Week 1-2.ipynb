{
 "cells": [
  {
   "cell_type": "code",
   "execution_count": null,
   "metadata": {},
   "outputs": [],
   "source": []
  },
  {
   "cell_type": "code",
   "execution_count": null,
   "metadata": {},
   "outputs": [],
   "source": []
  },
  {
   "cell_type": "markdown",
   "metadata": {},
   "source": [
    "# CAPSTONE PROJECT - BEER AVAILABILITY IN CALGARY, CANADA - Week 1"
   ]
  },
  {
   "cell_type": "markdown",
   "metadata": {},
   "source": [
    "## 1. Introduction:\n",
    "Well-known for natural beauty of the close-by Rocky Mountains, the City of Calgary, Alberta, Canada, has also gone through transformation in terms of availability of beer in the last three decades. Historically, distribution and access to alcohol was limited and controlled by the government. In 1993, there were only 202 retail locations, so-called Alberta Liquor Control Board (ALCB) Liquor Stores in the entire province (Wikipedia) and many restaurants did not sell alcohol on Sundays. In 1993, following a provincial election, all ALCB liquor stores were quickly privatized and the industry experienced a major boom. The decision was controversial, due to its impact on both employment and alcohol availability. It is also true that, \"In recent years disorderly conduct at and near licensed establishments was identified as a growing problem, particularly in the major cities. The province's economic boom and the resulting affluence of its youth were identified as the root cause of the increase in binge drinking\" (Wikipedia).The objective of this Capstone Project is to explore Calgary communities to establish how available beer is in Calgary today, both in retail venues and in restaurants. \n",
    "\n",
    "This Capstone Project's objective, then, is to collect information available from public sources to collect information and perform an analysis of Calgary communities, identifying establishents holding Alcohol Beverage Sales License and Liquor Stores. This informatio will be pre-processed and subjected to clustering to identify and rank Calgary regions in terms of beer availability. This exercise does not intend to explore and rank quality of the beverages sold or served, as these preferences are highly subjective.\n",
    "\n",
    "It is expected, that the downtown and University of Calgary areas are best-served in this respect, while bedroom communities in the suburbs are not. In addition, the results should provide the newcomer to Calgary with one bit of information that may be relevant when making the decision as to which community suits their needs best.\n",
    "\n"
   ]
  },
  {
   "cell_type": "markdown",
   "metadata": {},
   "source": [
    "## 2. Data Section\n",
    "Data Link: https://data.calgary.ca/Business-and-Economic-Activity/Calgary-Business-Licences/vdjc-pybd/data\n",
    "\n",
    "The link has been obtained from City of Calgary pages and contains the list of all businesses legally operating in the City. \n",
    "\n",
    "The dataset contains data about all relevant establishments in all communities of Calgary, including locational information, such as tradename, address, status of Alcohol Beverage Sales license, geographic coordinates, etc. For the purpose of this exercise, i.e., exploring all relevant businesses, the selected dataset is deemed to serve the purpose best, as it can be relied on to contain an exhaustive list of relevant businesses.\n",
    "\n",
    "Following review of the data and some pre-processing, the relevant data has been mapped out to obtain an overall perspective on draft beer availability in the City. While this overall review indicates the status quo, additional detail has been obtained through clustering. \n",
    "\n",
    "Initial data obtained from the Business License Register included the following information:\n",
    "\n",
    "    1. Tradename\n",
    "    2. Address\n",
    "    3. License Type\n",
    "    4. Community\n",
    "    5. Status\n",
    "    6. Date of Registration\n",
    "    7. Address Longitude\n",
    "    8. Address Latitude\n",
    "\n",
    "Folium Maps:\n",
    "\n",
    "Map of Calgary\n",
    "\n",
    "\n"
   ]
  },
  {
   "cell_type": "markdown",
   "metadata": {},
   "source": [
    "## 3. Methodology Section\n",
    "\n",
    "Clustering Approach:\n",
    "\n",
    "To analyze the data obtained and pre-processed, clustering has been selected as the approach providing the most useful information. Communities with the largest and lowest number of locations have been identified and graphed and mapped out, then, for the purposes clustering, the data has been clened and simplified. Eight clusters has been determined as being the optimum and the method used was k-means.\n"
   ]
  },
  {
   "cell_type": "markdown",
   "metadata": {},
   "source": [
    "## 4. Results Section\n",
    "\n",
    "Map of Clusters in Calgary\n",
    "\n",
    "\n",
    "List of all locations within clusters in Calgary\n",
    "\n",
    "\n",
    "Ranking the Clusters\n",
    "\n",
    "\n",
    "The Province of Alberta:\n",
    "\n",
    "Alberta is a province in Western Canada. Its landscape encompasses mountains, prairies, desert badlands and vast coniferous forests. It has more than 600 lakes, and rich mineral deposits. In the west, the Canadian Rocky Mountain Parks have glaciers in the Columbia Icefields. The Waterton Glacier International Peace Park is a biosphere reserve that straddles the southern border with the USA (Wikipedia). Alberta's population was 4.371 million in 2019 (StatCan).\n",
    "\n",
    "The City of Calgary:\n",
    "\n",
    "Calgary is a cosmopolitan Alberta city with numerous skyscrapers which owes its rapid growth to its status as the centre of Canada’s oil industry. However, it’s still steeped in the western culture that earned it the nickname “Cowtown,” evident in the Calgary Stampede, its massive July rodeo and festival that grew out of the farming exhibitions once presented here.\n",
    "\n",
    "Elevation: 1,045 m\n",
    "Population: 1.514 million (2020 - www.statista.com)\n",
    "Area code(s): 403, 587, 825\n",
    "\n",
    "Calgary Business Licenses:\n",
    "This Capstone project uses  the City of Calgary dataset collection as its prime data gathering source as it contains data on all legally operating businesess in the City and includes the licensed businesses in the City of Calgary. Data fields include: Trade name, Business Location, Creation Date, Status, Licence Type and Community District of the business.\n",
    "\n",
    "\n",
    "\n"
   ]
  },
  {
   "cell_type": "markdown",
   "metadata": {},
   "source": [
    "## 5. Discussion Section\n",
    "\n",
    "The objective of this project is to illustrate the impact on the society of changing the rules and provide basic information on the current situation. As mentioned previously, until 1994, there were only 202 liquor stores in the entire province, and, in Calgary, the bar community was represented primarily by \"Electric Avenue\", four blocks of two dozens of bars on 11 Ave, S.W.\n",
    "\n",
    "The numbers show clearly that, even though the concept of liquor stores has been kept, deregulation of the industry has led to a boom - there are over 350 liquor stores in Calgary and the number of beer-serving places has gone well over 1,500. \n"
   ]
  },
  {
   "cell_type": "markdown",
   "metadata": {},
   "source": [
    "## 6. Conclusion Section\n",
    "\n",
    "In this Capstone project k-means clustering was used to divide the City of Calgary into 8 clusters. The clusters vary from 103 (cluster 7) to 756 (cluster 1) venues.\n",
    "\n",
    "The findings support the assumption that downtown houses the largest number of beer-serving establishments, while the bedroom communities in suburbs have the lowest number of the venues.\n",
    "\n",
    "Future Works:\n",
    "\n",
    "This Capstone Project could be used to develop a beer map of Calgary with more focus on quality aspect.\n",
    "\n",
    "Libraries used:\n",
    "\n",
    "Pandas: To create and manipulate dataframes.\n",
    "\n",
    "Folium: To visualize the venues and cluster distribution of using interactive leaflet map.\n",
    "\n",
    "Scikit Learn: To import k-means clustering.\n",
    "\n",
    "JSON: To handle JSON files.\n",
    "\n",
    "Geocoder: To retrieve Location Data.\n",
    "\n",
    "Beautiful Soup and Requests: To scrap and library to handle http requests.\n",
    "\n",
    "Matplotlib: To plot data.\n",
    "\n",
    "GitHub Link of Complete Project : \n",
    "\n",
    "\n",
    "\n"
   ]
  }
 ],
 "metadata": {
  "kernelspec": {
   "display_name": "Python 3",
   "language": "python",
   "name": "python3"
  },
  "language_info": {
   "codemirror_mode": {
    "name": "ipython",
    "version": 3
   },
   "file_extension": ".py",
   "mimetype": "text/x-python",
   "name": "python",
   "nbconvert_exporter": "python",
   "pygments_lexer": "ipython3",
   "version": "3.7.6"
  }
 },
 "nbformat": 4,
 "nbformat_minor": 4
}
